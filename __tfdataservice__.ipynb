{
 "cells": [
  {
   "cell_type": "code",
   "execution_count": null,
   "metadata": {},
   "outputs": [],
   "source": [
    "# todo\n",
    "# resource save\n",
    "# ? add fish can only add value and type, duplicate: fail -> skip\n",
    "# ? check if add fish only have value and type, and then duplicate: fail -> skip\n",
    "# ? add resource/upload, which only have value and type\n",
    "# tag mult level\n",
    "# resource/preview\n",
    "# add fish should not post fishdata (will in memory), use resource/load, large file no preview\n",
    "\n",
    "# permission management\n"
   ]
  },
  {
   "cell_type": "code",
   "execution_count": null,
   "metadata": {},
   "outputs": [],
   "source": [
    "from touchfish import tfdataservice\n",
    "\n",
    "tfdataservice.run(workpath='/Users/yzjsswk/WorkSpace/tfdataservice/tfds', port=2233)"
   ]
  }
 ],
 "metadata": {
  "kernelspec": {
   "display_name": "Python 3",
   "language": "python",
   "name": "python3"
  },
  "language_info": {
   "codemirror_mode": {
    "name": "ipython",
    "version": 3
   },
   "file_extension": ".py",
   "mimetype": "text/x-python",
   "name": "python",
   "nbconvert_exporter": "python",
   "pygments_lexer": "ipython3",
   "version": "3.12.2"
  }
 },
 "nbformat": 4,
 "nbformat_minor": 2
}
