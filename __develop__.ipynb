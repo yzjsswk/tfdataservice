{
 "cells": [
  {
   "cell_type": "code",
   "execution_count": null,
   "metadata": {},
   "outputs": [],
   "source": [
    "from yfunc import *\n",
    "from touchfish import tfoperator\n",
    "\n",
    "tfop = tfoperator(port=2233)"
   ]
  },
  {
   "cell_type": "code",
   "execution_count": null,
   "metadata": {},
   "outputs": [],
   "source": [
    "# sync data at touchfish app\n",
    "\n",
    "path__old_db = '/Users/yzjsswk/Library/Application Support/TouchFish/data.db'\n",
    "\n",
    "rows = ystr(path__old_db).filepath().db().table('fish').select()\n",
    "for row in rows:\n",
    "    type = row[2]\n",
    "    value = row[4]\n",
    "    res = tfop.add_fish(value=ybytes.from_str(value), type=type)\n",
    "    print(res.text)\n",
    "\n"
   ]
  },
  {
   "cell_type": "code",
   "execution_count": null,
   "metadata": {},
   "outputs": [],
   "source": [
    "res = tfop.add_fish(value=ybytes.from_file('/Users/yzjsswk/WorkSpace/tfdataservice/0.png'), type='image')\n",
    "print(res.text)"
   ]
  },
  {
   "cell_type": "code",
   "execution_count": null,
   "metadata": {},
   "outputs": [],
   "source": [
    "res = tfop.search_fish(type='image')\n",
    "print(res.text)"
   ]
  },
  {
   "cell_type": "code",
   "execution_count": null,
   "metadata": {},
   "outputs": [],
   "source": [
    "import requests\n",
    "res = requests.get('http://127.0.0.1:2233/resource/fetch?identity=85df79bffe137ebd99cdd0acdec86941')\n",
    "bs = ybytes(res.content)\n",
    "bs.to_str()"
   ]
  },
  {
   "cell_type": "code",
   "execution_count": 5,
   "metadata": {},
   "outputs": [
    {
     "data": {
      "text/plain": [
       "\"from yfunc import *\\n\\nimport requests\\n\\nres = requests.get('http://127.0.0.1:5000/fish/search')\\nystr(res.text).json().format().print()\""
      ]
     },
     "execution_count": 5,
     "metadata": {},
     "output_type": "execute_result"
    }
   ],
   "source": [
    "res = tfop.fetch_resource('85df79bffe137ebd99cdd0acdec86941')\n",
    "ybytes(res.content).to_str()"
   ]
  },
  {
   "cell_type": "code",
   "execution_count": null,
   "metadata": {},
   "outputs": [],
   "source": [
    "import pytesseract\n",
    "from PIL import Image\n",
    "\n",
    "# 打开图像文件\n",
    "image = Image.open('0.png')  # 替换为你的图像文件路径\n",
    "\n",
    "# 使用 Tesseract 进行图像文本识别\n",
    "text = pytesseract.image_to_string(image)\n",
    "\n",
    "# 打印识别的文本\n",
    "print(text)"
   ]
  }
 ],
 "metadata": {
  "kernelspec": {
   "display_name": "Python 3",
   "language": "python",
   "name": "python3"
  },
  "language_info": {
   "codemirror_mode": {
    "name": "ipython",
    "version": 3
   },
   "file_extension": ".py",
   "mimetype": "text/x-python",
   "name": "python",
   "nbconvert_exporter": "python",
   "pygments_lexer": "ipython3",
   "version": "3.12.2"
  }
 },
 "nbformat": 4,
 "nbformat_minor": 2
}
