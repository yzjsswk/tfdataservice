{
 "cells": [
  {
   "cell_type": "code",
   "execution_count": null,
   "metadata": {},
   "outputs": [],
   "source": [
    "from yfunc import *\n",
    "from touchfish import tfoperator\n",
    "\n",
    "tfop = tfoperator(host='127.0.0.1', port=2233)"
   ]
  },
  {
   "cell_type": "code",
   "execution_count": null,
   "metadata": {},
   "outputs": [],
   "source": [
    "res = tfop.search_fish()\n",
    "res"
   ]
  },
  {
   "cell_type": "code",
   "execution_count": null,
   "metadata": {},
   "outputs": [],
   "source": [
    "tfop.add_fish(value='xxx', type='text', description='asd', tags=['1', '2'])"
   ]
  },
  {
   "cell_type": "code",
   "execution_count": null,
   "metadata": {},
   "outputs": [],
   "source": [
    "tfop.fetch_resource('f11071beafb4e38e135a3c37eda9d7e9')"
   ]
  },
  {
   "cell_type": "code",
   "execution_count": null,
   "metadata": {},
   "outputs": [],
   "source": [
    "# import pytesseract\n",
    "# from PIL import Image\n",
    "\n",
    "# # 打开图像文件\n",
    "# image = Image.open('0.png')  # 替换为你的图像文件路径\n",
    "\n",
    "# # 使用 Tesseract 进行图像文本识别\n",
    "# text = pytesseract.image_to_string(image)\n",
    "\n",
    "# # 打印识别的文本\n",
    "# print(text)"
   ]
  },
  {
   "cell_type": "code",
   "execution_count": null,
   "metadata": {},
   "outputs": [],
   "source": [
    "# ystr('/Users/yzjsswk/WorkSpace/tfdataservice/tfds/fishdata').filepath().remove(Y=True)\n",
    "# ystr('/Users/yzjsswk/WorkSpace/tfdataservice/tfds/fishindex').filepath().remove(Y=True)\n",
    "# ystr('/Users/yzjsswk/WorkSpace/tfdataservice/tfds/tf.db').filepath().remove(Y=True)\n",
    "# ystr('/Users/yzjsswk/Library/Application Support/TouchFish/').filepath().remove(Y=True)\n"
   ]
  }
 ],
 "metadata": {
  "kernelspec": {
   "display_name": "Python 3",
   "language": "python",
   "name": "python3"
  },
  "language_info": {
   "codemirror_mode": {
    "name": "ipython",
    "version": 3
   },
   "file_extension": ".py",
   "mimetype": "text/x-python",
   "name": "python",
   "nbconvert_exporter": "python",
   "pygments_lexer": "ipython3",
   "version": "3.12.2"
  }
 },
 "nbformat": 4,
 "nbformat_minor": 2
}
