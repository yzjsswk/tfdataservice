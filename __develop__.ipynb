{
 "cells": [
  {
   "cell_type": "code",
   "execution_count": null,
   "metadata": {},
   "outputs": [],
   "source": [
    "from yfunc import *\n",
    "from touchfish import touchfish"
   ]
  },
  {
   "cell_type": "code",
   "execution_count": null,
   "metadata": {},
   "outputs": [],
   "source": [
    "res = touchfish.search_fish(page='1,5')\n",
    "print(res.text)"
   ]
  },
  {
   "cell_type": "code",
   "execution_count": null,
   "metadata": {},
   "outputs": [],
   "source": [
    "path__old_db = '/Users/yzjsswk/Library/Application Support/TouchFish/data.db'\n",
    "\n",
    "rows = ystr(path__old_db).filepath().db().table('fish').select()\n",
    "for row in rows:\n",
    "    type = row[2]\n",
    "    value = row[4]\n",
    "    res = touchfish.add_fish(value=ybytes.from_str(value), type=type)\n",
    "    print(res.text)\n",
    "\n"
   ]
  },
  {
   "cell_type": "code",
   "execution_count": null,
   "metadata": {},
   "outputs": [],
   "source": [
    "ystr('tf.db').filepath().db().execute('select count(*) from fish where 1=1 order by update_time desc limit 20')"
   ]
  }
 ],
 "metadata": {
  "kernelspec": {
   "display_name": "Python 3",
   "language": "python",
   "name": "python3"
  },
  "language_info": {
   "codemirror_mode": {
    "name": "ipython",
    "version": 3
   },
   "file_extension": ".py",
   "mimetype": "text/x-python",
   "name": "python",
   "nbconvert_exporter": "python",
   "pygments_lexer": "ipython3",
   "version": "3.12.2"
  }
 },
 "nbformat": 4,
 "nbformat_minor": 2
}
