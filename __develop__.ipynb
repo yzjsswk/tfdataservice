{
 "cells": [
  {
   "cell_type": "code",
   "execution_count": null,
   "metadata": {},
   "outputs": [],
   "source": [
    "from yfunc import *\n",
    "from touchfish import tfoperator\n",
    "\n",
    "tfop = tfoperator()"
   ]
  },
  {
   "cell_type": "code",
   "execution_count": null,
   "metadata": {},
   "outputs": [],
   "source": [
    "res = tfop.add_fish(value=ybytes.from_file(''), type='image')\n",
    "print(res)"
   ]
  },
  {
   "cell_type": "code",
   "execution_count": null,
   "metadata": {},
   "outputs": [],
   "source": [
    "ystr(tfop.search_fish()).print()"
   ]
  },
  {
   "cell_type": "code",
   "execution_count": null,
   "metadata": {},
   "outputs": [],
   "source": [
    "res = tfop.fetch_resource('65b6a771c52087984eb382dd1cf8c6ad')\n",
    "ybytes(res).to_str()"
   ]
  },
  {
   "cell_type": "code",
   "execution_count": null,
   "metadata": {},
   "outputs": [],
   "source": [
    "# import pytesseract\n",
    "# from PIL import Image\n",
    "\n",
    "# # 打开图像文件\n",
    "# image = Image.open('0.png')  # 替换为你的图像文件路径\n",
    "\n",
    "# # 使用 Tesseract 进行图像文本识别\n",
    "# text = pytesseract.image_to_string(image)\n",
    "\n",
    "# # 打印识别的文本\n",
    "# print(text)"
   ]
  }
 ],
 "metadata": {
  "kernelspec": {
   "display_name": "Python 3",
   "language": "python",
   "name": "python3"
  },
  "language_info": {
   "codemirror_mode": {
    "name": "ipython",
    "version": 3
   },
   "file_extension": ".py",
   "mimetype": "text/x-python",
   "name": "python",
   "nbconvert_exporter": "python",
   "pygments_lexer": "ipython3",
   "version": "3.12.2"
  }
 },
 "nbformat": 4,
 "nbformat_minor": 2
}
